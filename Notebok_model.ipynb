{
 "cells": [
  {
   "cell_type": "code",
   "execution_count": 73,
   "id": "d3fb6f1d",
   "metadata": {},
   "outputs": [],
   "source": [
    "import numpy as np # linear algebra\n",
    "import pandas as pd # data processing, CSV file I/O (e.g. pd.read_csv)\n",
    "import seaborn as sns \n",
    "import matplotlib.pyplot as plt \n",
    "from imblearn.over_sampling import SMOTE\n",
    "from sklearn.preprocessing import StandardScaler, MinMaxScaler, RobustScaler\n",
    "from sklearn.model_selection import train_test_split\n",
    "from sklearn.pipeline import make_pipeline\n",
    "from sklearn.model_selection import StratifiedKFold\n",
    "from sklearn.model_selection import GridSearchCV\n",
    "from sklearn.tree import DecisionTreeClassifier\n",
    "from sklearn.model_selection import train_test_split\n",
    "from sklearn.model_selection import RandomizedSearchCV\n",
    "from sklearn.ensemble import RandomForestClassifier\n",
    "from sklearn.naive_bayes import GaussianNB\n",
    "from sklearn.metrics import confusion_matrix\n",
    "import warnings\n",
    "warnings.simplefilter(action=\"ignore\")\n",
    "\n",
    "from lazypredict.Supervised import LazyClassifier, LazyRegressor\n",
    "from tpot import TPOTClassifier"
   ]
  },
  {
   "cell_type": "code",
   "execution_count": 74,
   "id": "f9e748c9",
   "metadata": {},
   "outputs": [],
   "source": [
    "df = pd.read_csv('data/data.csv')"
   ]
  },
  {
   "cell_type": "code",
   "execution_count": 75,
   "id": "6b7a6878",
   "metadata": {},
   "outputs": [],
   "source": [
    "# Outliers removal\n",
    "\n",
    "def outliers_removal(feature,feature_name,dataset):\n",
    "    \n",
    "    # Identify 25th & 75th quartiles\n",
    "\n",
    "    q25, q75 = np.percentile(feature, 25), np.percentile(feature, 75)\n",
    "    feat_iqr = q75 - q25\n",
    "    \n",
    "    \n",
    "    feat_cut_off = feat_iqr * 1.5\n",
    "    feat_lower, feat_upper = q25 - feat_cut_off, q75 + feat_cut_off\n",
    "   \n",
    "    outliers = [x for x in feature if x < feat_lower or x > feat_upper]\n",
    "   \n",
    "\n",
    "    dataset = dataset.drop(dataset[(dataset[feature_name] > feat_upper) | (dataset[feature_name] < feat_lower)].index)\n",
    " \n",
    "    \n",
    "    return dataset\n",
    "\n",
    "for col in df:\n",
    "    new_df = outliers_removal(df[col],str(col),df)"
   ]
  },
  {
   "cell_type": "code",
   "execution_count": 76,
   "id": "5ebc1334",
   "metadata": {},
   "outputs": [],
   "source": [
    "X = new_df.drop(['Bankrupt?'], axis = 1)\n"
   ]
  },
  {
   "cell_type": "code",
   "execution_count": 47,
   "id": "01c84a77",
   "metadata": {},
   "outputs": [],
   "source": [
    "# sc = StandardScaler()\n",
    "# mms = MinMaxScaler()\n",
    "# rs= RobustScaler()"
   ]
  },
  {
   "cell_type": "code",
   "execution_count": 55,
   "id": "b8b11427",
   "metadata": {},
   "outputs": [],
   "source": [
    "# X = mms.fit_transform(X)"
   ]
  },
  {
   "cell_type": "code",
   "execution_count": 77,
   "id": "1a4c6358",
   "metadata": {},
   "outputs": [],
   "source": [
    "y =new_df['Bankrupt?']\n"
   ]
  },
  {
   "cell_type": "code",
   "execution_count": 78,
   "id": "5f526c37",
   "metadata": {},
   "outputs": [],
   "source": [
    "#from sklearn.model_selection import train_test_split\n",
    "X_train,X_test,y_train,y_test  = train_test_split(X, y,\n",
    "                                              test_size=0.3,\n",
    "                                              random_state = 42)"
   ]
  },
  {
   "cell_type": "code",
   "execution_count": 79,
   "id": "2243b404",
   "metadata": {},
   "outputs": [
    {
     "data": {
      "text/plain": [
       "1165    0\n",
       "5516    0\n",
       "2732    0\n",
       "6241    0\n",
       "6498    1\n",
       "       ..\n",
       "4156    0\n",
       "5653    0\n",
       "5688    0\n",
       "5864    0\n",
       "896     0\n",
       "Name: Bankrupt?, Length: 4389, dtype: int64"
      ]
     },
     "execution_count": 79,
     "metadata": {},
     "output_type": "execute_result"
    }
   ],
   "source": [
    "y_train"
   ]
  },
  {
   "cell_type": "code",
   "execution_count": 80,
   "id": "ecb21a58",
   "metadata": {},
   "outputs": [],
   "source": [
    "sm = SMOTE(random_state=42)\n",
    "X_train, y_train = sm.fit_resample(X_train, y_train)"
   ]
  },
  {
   "cell_type": "code",
   "execution_count": null,
   "id": "c8047c9d",
   "metadata": {},
   "outputs": [],
   "source": []
  },
  {
   "cell_type": "markdown",
   "id": "9f1251e0",
   "metadata": {},
   "source": [
    "# Model RandomForestClassifier"
   ]
  },
  {
   "cell_type": "code",
   "execution_count": 240,
   "id": "39a9e1e7",
   "metadata": {},
   "outputs": [],
   "source": [
    "model = RandomForestClassifier()"
   ]
  },
  {
   "cell_type": "code",
   "execution_count": 243,
   "id": "94df95bf",
   "metadata": {},
   "outputs": [],
   "source": [
    "params = { 'max_leaf_nodes': [100, 150, 200], 'min_samples_split' : [5,10,15], 'n_estimators': [400, 500, 600,700, 800], }"
   ]
  },
  {
   "cell_type": "code",
   "execution_count": 244,
   "id": "3c9b8cd4",
   "metadata": {},
   "outputs": [],
   "source": [
    "grid_search = GridSearchCV(estimator=model,\n",
    "                           param_grid=params,\n",
    "                           scoring='recall',\n",
    "                           cv=3,\n",
    "                           n_jobs=-1)"
   ]
  },
  {
   "cell_type": "code",
   "execution_count": 245,
   "id": "d17f41b0",
   "metadata": {},
   "outputs": [
    {
     "data": {
      "text/plain": [
       "GridSearchCV(cv=3, estimator=RandomForestClassifier(), n_jobs=-1,\n",
       "             param_grid={'max_leaf_nodes': [100, 150, 200],\n",
       "                         'min_samples_split': [5, 10, 15],\n",
       "                         'n_estimators': [400, 500, 600, 700, 800]},\n",
       "             scoring='recall')"
      ]
     },
     "execution_count": 245,
     "metadata": {},
     "output_type": "execute_result"
    }
   ],
   "source": [
    "grid_search.fit(X_train, y_train)"
   ]
  },
  {
   "cell_type": "code",
   "execution_count": 246,
   "id": "680e8504",
   "metadata": {},
   "outputs": [],
   "source": [
    "best_estimator = grid_search.best_estimator_"
   ]
  },
  {
   "cell_type": "code",
   "execution_count": 247,
   "id": "50aa8749",
   "metadata": {},
   "outputs": [
    {
     "data": {
      "text/plain": [
       "RandomForestClassifier(max_leaf_nodes=200, min_samples_split=5,\n",
       "                       n_estimators=500)"
      ]
     },
     "execution_count": 247,
     "metadata": {},
     "output_type": "execute_result"
    }
   ],
   "source": [
    "best_estimator"
   ]
  },
  {
   "cell_type": "code",
   "execution_count": null,
   "id": "06e640e1",
   "metadata": {},
   "outputs": [],
   "source": [
    "max_leaf_nodes=100, min_samples_split=2,n_estimators=400"
   ]
  },
  {
   "cell_type": "code",
   "execution_count": 205,
   "id": "0a178d24",
   "metadata": {},
   "outputs": [
    {
     "data": {
      "text/plain": [
       "RandomForestClassifier()"
      ]
     },
     "execution_count": 205,
     "metadata": {},
     "output_type": "execute_result"
    }
   ],
   "source": [
    "model.fit(X_train, y_train)"
   ]
  },
  {
   "cell_type": "code",
   "execution_count": 251,
   "id": "9aa952dd",
   "metadata": {},
   "outputs": [],
   "source": [
    "rf = RandomForestClassifier(max_leaf_nodes=100, min_samples_split=2,n_estimators=400)\n",
    "rf.fit(X_train, y_train)\n",
    "\n",
    "prediction = rf.predict(X_test)"
   ]
  },
  {
   "cell_type": "code",
   "execution_count": 252,
   "id": "1a7c4af6",
   "metadata": {},
   "outputs": [
    {
     "name": "stdout",
     "output_type": "stream",
     "text": [
      "[0.        0.0504386 1.       ] [0.         0.66666667 1.        ]\n",
      "80.81140350877193\n"
     ]
    },
    {
     "data": {
      "image/png": "[encoded data removed]",
      "text/plain": [
       "<Figure size 432x288 with 1 Axes>"
      ]
     },
     "metadata": {
      "needs_background": "light"
     },
     "output_type": "display_data"
    },
    {
     "name": "stdout",
     "output_type": "stream",
     "text": [
      "              precision    recall  f1-score   support\n",
      "\n",
      "           0       0.99      0.95      0.97      1824\n",
      "           1       0.29      0.67      0.41        57\n",
      "\n",
      "    accuracy                           0.94      1881\n",
      "   macro avg       0.64      0.81      0.69      1881\n",
      "weighted avg       0.97      0.94      0.95      1881\n",
      "\n"
     ]
    },
    {
     "data": {
      "image/png": "[encoded data removed]",
      "text/plain": [
       "<Figure size 432x288 with 2 Axes>"
      ]
     },
     "metadata": {
      "needs_background": "light"
     },
     "output_type": "display_data"
    },
    {
     "name": "stdout",
     "output_type": "stream",
     "text": [
      "f1_score is:  40.64171122994652\n"
     ]
    }
   ],
   "source": [
    "from sklearn.metrics import roc_curve,auc\n",
    "fp, tp, thresholds=roc_curve(y_test,prediction,pos_label=1)\n",
    "print(fp, tp)\n",
    "AUC=auc(fp, tp)*100\n",
    "print(AUC)\n",
    "\n",
    "#tracer tp en fonction de fp\n",
    "import matplotlib.pyplot as plt\n",
    "plt.plot(fp, tp, color='blue',label = 'AUC = %0.2f' % AUC)\n",
    "plt.title('Receiver Operating Characteristic')\n",
    "#plt.plot(fpr, tpr, 'b', label = 'AUC = %0.2f' % AUC)\n",
    "plt.legend(loc = 'lower right')\n",
    "plt.plot([0, 1], [0, 1],'r--')\n",
    "plt.xlim([0, 1])\n",
    "plt.ylim([0, 1])\n",
    "plt.ylabel('True Positive Rate')\n",
    "plt.xlabel('False Positive Rate')\n",
    "plt.show()\n",
    "\n",
    "from sklearn.metrics import classification_report\n",
    "Class=classification_report(y_test,prediction)\n",
    "print(Class)\n",
    "\n",
    "def plot_confusion_matrix(y, prediction):\n",
    "     cm = confusion_matrix(y, prediction)\n",
    "     sns.heatmap(cm, annot=True, fmt=\".0f\")\n",
    "     plt.xlabel('y_pred')\n",
    "     plt.ylabel('y')\n",
    "     plt.show()\n",
    "\n",
    "plot_confusion_matrix(y_test, prediction)\n",
    "\n",
    "from sklearn.metrics import f1_score\n",
    "f1score=f1_score(y_test,prediction)*100\n",
    "print('f1_score is: ',f1score)"
   ]
  },
  {
   "cell_type": "markdown",
   "id": "fbb4aa03",
   "metadata": {},
   "source": [
    "# Logistic regression"
   ]
  },
  {
   "cell_type": "code",
   "execution_count": 250,
   "id": "d5a6d3c3",
   "metadata": {},
   "outputs": [
    {
     "name": "stdout",
     "output_type": "stream",
     "text": [
      "0.8952684742158427\n",
      "[0.         0.09868421 1.        ] [0.         0.70175439 1.        ]\n",
      "80.15350877192982\n"
     ]
    },
    {
     "data": {
      "image/png": "[encoded data removed]",
      "text/plain": [
       "<Figure size 432x288 with 1 Axes>"
      ]
     },
     "metadata": {
      "needs_background": "light"
     },
     "output_type": "display_data"
    },
    {
     "name": "stdout",
     "output_type": "stream",
     "text": [
      "              precision    recall  f1-score   support\n",
      "\n",
      "           0       0.99      0.90      0.94      1824\n",
      "           1       0.18      0.70      0.29        57\n",
      "\n",
      "    accuracy                           0.90      1881\n",
      "   macro avg       0.59      0.80      0.62      1881\n",
      "weighted avg       0.97      0.90      0.92      1881\n",
      "\n"
     ]
    },
    {
     "data": {
      "image/png": "[encoded data removed]",
      "text/plain": [
       "<Figure size 432x288 with 2 Axes>"
      ]
     },
     "metadata": {
      "needs_background": "light"
     },
     "output_type": "display_data"
    }
   ],
   "source": [
    " from sklearn.linear_model import LogisticRegression\n",
    "pipe = make_pipeline(StandardScaler(), LogisticRegression())\n",
    "pipe.fit(X_train, y_train)\n",
    "y_pred = pipe.predict(X_test)\n",
    "print(pipe.score(X_test, y_test))\n",
    "\n",
    "from sklearn.metrics import roc_curve,auc\n",
    "fp, tp, thresholds=roc_curve(y_test,y_pred,pos_label=1)\n",
    "print(fp, tp)\n",
    "AUC=auc(fp, tp)*100\n",
    "print(AUC)\n",
    "\n",
    "#tracer tp en fonction de fp\n",
    "import matplotlib.pyplot as plt\n",
    "plt.plot(fp, tp, color='blue',label = 'AUC = %0.2f' % AUC)\n",
    "plt.title('Receiver Operating Characteristic')\n",
    "#plt.plot(fpr, tpr, 'b', label = 'AUC = %0.2f' % AUC)\n",
    "plt.legend(loc = 'lower right')\n",
    "plt.plot([0, 1], [0, 1],'r--')\n",
    "plt.xlim([0, 1])\n",
    "plt.ylim([0, 1])\n",
    "plt.ylabel('True Positive Rate')\n",
    "plt.xlabel('False Positive Rate')\n",
    "plt.show()\n",
    "\n",
    "from sklearn.metrics import classification_report\n",
    "Class=classification_report(y_test,y_pred)\n",
    "print(Class)\n",
    "\n",
    "def plot_confusion_matrix(y, y_pred):\n",
    "     cm = confusion_matrix(y, y_pred)\n",
    "     sns.heatmap(cm, annot=True, fmt=\".0f\")\n",
    "     plt.xlabel('y_pred')\n",
    "     plt.ylabel('y')\n",
    "     plt.show()\n",
    "\n",
    "plot_confusion_matrix(y_test, y_pred)\n",
    "\n"
   ]
  },
  {
   "cell_type": "markdown",
   "id": "5724037a",
   "metadata": {},
   "source": [
    "# TPOT "
   ]
  },
  {
   "cell_type": "code",
   "execution_count": 81,
   "id": "f764009a",
   "metadata": {},
   "outputs": [],
   "source": [
    "tpot = TPOTClassifier(generations=5, population_size=50, verbosity=2, n_jobs=1)"
   ]
  },
  {
   "cell_type": "code",
   "execution_count": null,
   "id": "42f448c8",
   "metadata": {},
   "outputs": [],
   "source": [
    "tpot.fit(X_train, y_train)"
   ]
  },
  {
   "cell_type": "code",
   "execution_count": null,
   "id": "ee61dae1",
   "metadata": {},
   "outputs": [],
   "source": [
    "tpot.export('bankrupt_pipeline2.py')"
   ]
  },
  {
   "cell_type": "code",
   "execution_count": 59,
   "id": "5e0c382b",
   "metadata": {},
   "outputs": [],
   "source": [
    "import numpy as np\n",
    "import pandas as pd\n",
    "from sklearn.model_selection import train_test_split\n",
    "from sklearn.pipeline import make_pipeline\n",
    "from sklearn.preprocessing import MinMaxScaler\n",
    "from xgboost import XGBClassifier\n",
    "\n",
    "# NOTE: Make sure that the outcome column is labeled 'target' in the data file\n",
    "tpot_data = pd.read_csv('data/data.csv', sep=',', dtype=np.float64)\n",
    "X = tpot_data.drop('Bankrupt?', axis=1)\n",
    "y = tpot_data['Bankrupt?']\n",
    "X_train, X_test, y_train, y_test = \\\n",
    "            train_test_split(X, y, random_state=None)\n",
    "\n",
    "sm = SMOTE(random_state=42)\n",
    "X_train, y_train = sm.fit_resample(X_train, y_train)\n",
    "\n",
    "# Average CV score on the training set was: 0.9696960802902836\n",
    "exported_pipeline = make_pipeline(\n",
    "    MinMaxScaler(),\n",
    "    XGBClassifier(learning_rate=0.1, max_depth=9, min_child_weight=1, n_estimators=100, n_jobs=1, subsample=0.9000000000000001, verbosity=0)\n",
    ")\n",
    "\n",
    "exported_pipeline.fit(X_train, y_train)\n",
    "y_pred = exported_pipeline.predict(X_test)\n"
   ]
  },
  {
   "cell_type": "code",
   "execution_count": null,
   "id": "bfcb80e4",
   "metadata": {},
   "outputs": [],
   "source": []
  },
  {
   "cell_type": "code",
   "execution_count": 60,
   "id": "bb79c524",
   "metadata": {},
   "outputs": [
    {
     "name": "stdout",
     "output_type": "stream",
     "text": [
      "[0.         0.03085299 1.        ] [0.  0.5 1. ]\n",
      "73.4573502722323\n"
     ]
    },
    {
     "data": {
      "image/png": "[encoded data removed]",
      "text/plain": [
       "<Figure size 432x288 with 1 Axes>"
      ]
     },
     "metadata": {
      "needs_background": "light"
     },
     "output_type": "display_data"
    },
    {
     "name": "stdout",
     "output_type": "stream",
     "text": [
      "              precision    recall  f1-score   support\n",
      "\n",
      "         0.0       0.98      0.97      0.98      1653\n",
      "         1.0       0.34      0.50      0.40        52\n",
      "\n",
      "    accuracy                           0.95      1705\n",
      "   macro avg       0.66      0.73      0.69      1705\n",
      "weighted avg       0.96      0.95      0.96      1705\n",
      "\n"
     ]
    },
    {
     "data": {
      "image/png": "[encoded data removed]",
      "text/plain": [
       "<Figure size 432x288 with 2 Axes>"
      ]
     },
     "metadata": {
      "needs_background": "light"
     },
     "output_type": "display_data"
    }
   ],
   "source": [
    "from sklearn.metrics import roc_curve,auc\n",
    "fp, tp, thresholds=roc_curve(y_test,y_pred,pos_label=1)\n",
    "print(fp, tp)\n",
    "AUC=auc(fp, tp)*100\n",
    "print(AUC)\n",
    "\n",
    "#tracer tp en fonction de fp\n",
    "import matplotlib.pyplot as plt\n",
    "plt.plot(fp, tp, color='blue',label = 'AUC = %0.2f' % AUC)\n",
    "plt.title('Receiver Operating Characteristic')\n",
    "#plt.plot(fpr, tpr, 'b', label = 'AUC = %0.2f' % AUC)\n",
    "plt.legend(loc = 'lower right')\n",
    "plt.plot([0, 1], [0, 1],'r--')\n",
    "plt.xlim([0, 1])\n",
    "plt.ylim([0, 1])\n",
    "plt.ylabel('True Positive Rate')\n",
    "plt.xlabel('False Positive Rate')\n",
    "plt.show()\n",
    "\n",
    "from sklearn.metrics import classification_report\n",
    "Class=classification_report(y_test,y_pred)\n",
    "print(Class)\n",
    "\n",
    "def plot_confusion_matrix(y, y_pred):\n",
    "     cm = confusion_matrix(y, y_pred)\n",
    "     sns.heatmap(cm, annot=True, fmt=\".0f\")\n",
    "     plt.xlabel('y_pred')\n",
    "     plt.ylabel('y')\n",
    "     plt.show()\n",
    "\n",
    "plot_confusion_matrix(y_test, y_pred)\n",
    "\n"
   ]
  },
  {
   "cell_type": "code",
   "execution_count": null,
   "id": "cb5de01e",
   "metadata": {},
   "outputs": [],
   "source": []
  }
 ],
 "metadata": {
  "kernelspec": {
   "display_name": "Python 3 (ipykernel)",
   "language": "python",
   "name": "python3"
  },
  "language_info": {
   "codemirror_mode": {
    "name": "ipython",
    "version": 3
   },
   "file_extension": ".py",
   "mimetype": "text/x-python",
   "name": "python",
   "nbconvert_exporter": "python",
   "pygments_lexer": "ipython3",
   "version": "3.8.8"
  }
 },
 "nbformat": 4,
 "nbformat_minor": 5
}
